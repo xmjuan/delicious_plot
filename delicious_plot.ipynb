{
 "cells": [
  {
   "cell_type": "code",
   "execution_count": 256,
   "id": "5e5f340a",
   "metadata": {},
   "outputs": [],
   "source": [
    "import matplotlib.pyplot as plt\n",
    "import pandas as pd\n",
    "import numpy as np\n",
    "import seaborn as sb\n",
    "%matplotlib inline"
   ]
  },
  {
   "cell_type": "code",
   "execution_count": 298,
   "id": "204f996e",
   "metadata": {},
   "outputs": [],
   "source": [
    "class delicious_stacked_plot():\n",
    "    \n",
    "    \"\"\" Delicious_plot class for creating stacked bar plot, \n",
    "    for visualizing relationship between categorical variables, feature categorical variables, \n",
    "    target categorical variables。\n",
    "    \n",
    "    Attributes:\n",
    "    feature_x (string) representing categorical x variables\n",
    "    target_y (string) representing categorical y variables\n",
    "    plot_tile (string) representing the customized title of plot\n",
    "    data (pandas dataframe) representing dataframe passed to plot\n",
    "    \n",
    "    \"\"\"\n",
    "    \n",
    "    \n",
    "    def __init__(self, feature_x, target_y, plot_title, data):\n",
    "        \n",
    "        self.feature_x = feature_x\n",
    "        self.target_y = target_y\n",
    "        self.title = plot_title\n",
    "        self.df = pd.DataFrame(data = data)\n",
    "        \n",
    "        \n",
    "    def data_preparation(self):\n",
    "        \n",
    "        \"\"\" Method to prepare the dataset ready for stacked_plot by using pandas\n",
    "        \n",
    "        Args: \n",
    "            None\n",
    "        \n",
    "        Returns:\n",
    "            dataframe with calculated proportion of target y in each feature x\n",
    "        \n",
    "        \"\"\"\n",
    "        # pass attributes\n",
    "        df = self.df\n",
    "        cat_x = self.feature_x\n",
    "        cat_y = self.target_y\n",
    "        \n",
    "        # aggregate data\n",
    "        data = df.groupby([cat_x, cat_y])[cat_x].count()\n",
    "        \n",
    "        # calculate percent and swap index level\n",
    "        perc_df = pd.DataFrame(data.div(data.sum()).T).swaplevel().unstack()\n",
    "  \n",
    "        return perc_df\n",
    "        \n",
    "\n",
    "    def plot_visualization(self, annotate = True):\n",
    "        \n",
    "        \"\"\" Method to visualize data as stacked plot by using matplotlib pyplot library\n",
    "        \n",
    "        Args:\n",
    "            annotate: binary\n",
    "            \n",
    "        Returns:\n",
    "            None\n",
    "        \"\"\"\n",
    "        \n",
    "        # pass prepared dataset\n",
    "        prepared_df = self.data_preparation()\n",
    "        \n",
    "        # create figure object\n",
    "        fig, ax = plt.subplots(figsize = (8, 5))\n",
    "        \n",
    "        # stacked plot\n",
    "        prepared_df.plot(kind = 'bar', stacked = True, color = ['yellow', 'orange', 'red'], ax = ax)\n",
    "        \n",
    "        # set legend\n",
    "        ax.legend(title = self.feature_x,  framealpha = 1,\n",
    "                  bbox_to_anchor = (1, 0.5), loc = 6)\n",
    "        \n",
    "        # set y label\n",
    "        ax.set_ylabel('Proportion')\n",
    "        \n",
    "        # pass title attributes to title\n",
    "        fig.suptitle(self.title)\n",
    "        \n",
    "        # foremat y ticks \n",
    "        y_values = ['{:,.2f}'.format(x) + '%' for x in ax.get_yticks()]\n",
    "        ax.set_yticklabels(y_values)\n",
    "\n",
    "        # annotate by using ax patches\n",
    "        while annotate:\n",
    "            for patch in ax.patches:\n",
    "                width, height = patch.get_width(), patch.get_height()\n",
    "                x, y = patch.get_xy()\n",
    "                ax.text(x+width/2, y+height/2,\n",
    "                   '{:.2f} %'.format(height), \n",
    "                    horizontalalignment='center',\n",
    "                    verticalalignment='center')\n",
    "        \n",
    "        \n",
    "        def __repr__(self):\n",
    "            \n",
    "            return print(pd.DataFrame(self.data_preparation()))"
   ]
  },
  {
   "cell_type": "code",
   "execution_count": 246,
   "id": "9a2250ae",
   "metadata": {},
   "outputs": [
    {
     "data": {
      "text/plain": [
       "sex     time  \n",
       "Male    Lunch      33\n",
       "        Dinner    124\n",
       "Female  Lunch      35\n",
       "        Dinner     52\n",
       "Name: sex, dtype: int64"
      ]
     },
     "execution_count": 246,
     "metadata": {},
     "output_type": "execute_result"
    }
   ],
   "source": [
    "tips.groupby(['sex', 'time'])['sex'].count()"
   ]
  },
  {
   "cell_type": "code",
   "execution_count": 300,
   "id": "4e5dd86d",
   "metadata": {},
   "outputs": [],
   "source": [
    "tips_trial = delicious_plot('sex', 'time', 'trial_plot', tips)"
   ]
  },
  {
   "cell_type": "code",
   "execution_count": 301,
   "id": "568579ec",
   "metadata": {},
   "outputs": [
    {
     "data": {
      "text/plain": [
       "<__main__.delicious_plot at 0x1e25fe0deb0>"
      ]
     },
     "execution_count": 301,
     "metadata": {},
     "output_type": "execute_result"
    }
   ],
   "source": [
    "tips_trial"
   ]
  },
  {
   "cell_type": "code",
   "execution_count": 269,
   "id": "144deaf7",
   "metadata": {},
   "outputs": [
    {
     "data": {
      "image/png": "[encoded data removed]",
      "text/plain": [
       "<Figure size 576x360 with 1 Axes>"
      ]
     },
     "metadata": {
      "needs_background": "light"
     },
     "output_type": "display_data"
    }
   ],
   "source": [
    "tips_trial.plot_visualization(annotate = True)"
   ]
  },
  {
   "cell_type": "code",
   "execution_count": 32,
   "id": "d184e7c5",
   "metadata": {},
   "outputs": [
    {
     "data": {
      "text/html": [
       "<div>\n",
       "<style scoped>\n",
       "    .dataframe tbody tr th:only-of-type {\n",
       "        vertical-align: middle;\n",
       "    }\n",
       "\n",
       "    .dataframe tbody tr th {\n",
       "        vertical-align: top;\n",
       "    }\n",
       "\n",
       "    .dataframe thead th {\n",
       "        text-align: right;\n",
       "    }\n",
       "</style>\n",
       "<table border=\"1\" class=\"dataframe\">\n",
       "  <thead>\n",
       "    <tr style=\"text-align: right;\">\n",
       "      <th></th>\n",
       "      <th>total_bill</th>\n",
       "      <th>tip</th>\n",
       "      <th>sex</th>\n",
       "      <th>smoker</th>\n",
       "      <th>day</th>\n",
       "      <th>time</th>\n",
       "      <th>size</th>\n",
       "    </tr>\n",
       "  </thead>\n",
       "  <tbody>\n",
       "    <tr>\n",
       "      <th>0</th>\n",
       "      <td>16.99</td>\n",
       "      <td>1.01</td>\n",
       "      <td>Female</td>\n",
       "      <td>No</td>\n",
       "      <td>Sun</td>\n",
       "      <td>Dinner</td>\n",
       "      <td>2</td>\n",
       "    </tr>\n",
       "    <tr>\n",
       "      <th>1</th>\n",
       "      <td>10.34</td>\n",
       "      <td>1.66</td>\n",
       "      <td>Male</td>\n",
       "      <td>No</td>\n",
       "      <td>Sun</td>\n",
       "      <td>Dinner</td>\n",
       "      <td>3</td>\n",
       "    </tr>\n",
       "    <tr>\n",
       "      <th>2</th>\n",
       "      <td>21.01</td>\n",
       "      <td>3.50</td>\n",
       "      <td>Male</td>\n",
       "      <td>No</td>\n",
       "      <td>Sun</td>\n",
       "      <td>Dinner</td>\n",
       "      <td>3</td>\n",
       "    </tr>\n",
       "    <tr>\n",
       "      <th>3</th>\n",
       "      <td>23.68</td>\n",
       "      <td>3.31</td>\n",
       "      <td>Male</td>\n",
       "      <td>No</td>\n",
       "      <td>Sun</td>\n",
       "      <td>Dinner</td>\n",
       "      <td>2</td>\n",
       "    </tr>\n",
       "    <tr>\n",
       "      <th>4</th>\n",
       "      <td>24.59</td>\n",
       "      <td>3.61</td>\n",
       "      <td>Female</td>\n",
       "      <td>No</td>\n",
       "      <td>Sun</td>\n",
       "      <td>Dinner</td>\n",
       "      <td>4</td>\n",
       "    </tr>\n",
       "  </tbody>\n",
       "</table>\n",
       "</div>"
      ],
      "text/plain": [
       "   total_bill   tip     sex smoker  day    time  size\n",
       "0       16.99  1.01  Female     No  Sun  Dinner     2\n",
       "1       10.34  1.66    Male     No  Sun  Dinner     3\n",
       "2       21.01  3.50    Male     No  Sun  Dinner     3\n",
       "3       23.68  3.31    Male     No  Sun  Dinner     2\n",
       "4       24.59  3.61  Female     No  Sun  Dinner     4"
      ]
     },
     "execution_count": 32,
     "metadata": {},
     "output_type": "execute_result"
    }
   ],
   "source": [
    "tips.head()"
   ]
  },
  {
   "cell_type": "code",
   "execution_count": 30,
   "id": "252371af",
   "metadata": {},
   "outputs": [
    {
     "data": {
      "text/plain": [
       "Male      0.643443\n",
       "Female    0.356557\n",
       "Name: sex, dtype: float64"
      ]
     },
     "execution_count": 30,
     "metadata": {},
     "output_type": "execute_result"
    }
   ],
   "source": [
    "tipstips['sex'].value_counts()/tips.shape[0]"
   ]
  },
  {
   "cell_type": "code",
   "execution_count": 43,
   "id": "022c32a1",
   "metadata": {},
   "outputs": [
    {
     "data": {
      "image/png": "[encoded data removed]",
      "text/plain": [
       "<Figure size 432x288 with 1 Axes>"
      ]
     },
     "metadata": {
      "needs_background": "light"
     },
     "output_type": "display_data"
    }
   ],
   "source": [
    "ax = tips.groupby(['sex'])[['total_bill', 'tip']].mean().plot(kind = 'bar')"
   ]
  },
  {
   "cell_type": "code",
   "execution_count": 100,
   "id": "48329b10",
   "metadata": {},
   "outputs": [],
   "source": [
    "df = tips.groupby(['sex', 'time'])['sex'].count()"
   ]
  },
  {
   "cell_type": "code",
   "execution_count": 93,
   "id": "5612805c",
   "metadata": {},
   "outputs": [
    {
     "data": {
      "text/plain": [
       "sex     time  \n",
       "Male    Lunch      33\n",
       "        Dinner    124\n",
       "Female  Lunch      35\n",
       "        Dinner     52\n",
       "Name: sex, dtype: int64"
      ]
     },
     "execution_count": 93,
     "metadata": {},
     "output_type": "execute_result"
    }
   ],
   "source": [
    "df"
   ]
  },
  {
   "cell_type": "code",
   "execution_count": 91,
   "id": "2e112787",
   "metadata": {},
   "outputs": [
    {
     "data": {
      "text/plain": [
       "CategoricalIndex(['Male', 'Female'], categories=['Male', 'Female'], ordered=False, name='sex', dtype='category')"
      ]
     },
     "execution_count": 91,
     "metadata": {},
     "output_type": "execute_result"
    }
   ],
   "source": [
    "df.index"
   ]
  },
  {
   "cell_type": "code",
   "execution_count": 101,
   "id": "0ecf7a23",
   "metadata": {},
   "outputs": [],
   "source": [
    "perc_df = pd.DataFrame(df.div(df.sum()).T)"
   ]
  },
  {
   "cell_type": "code",
   "execution_count": 104,
   "id": "5d9ed1a2",
   "metadata": {},
   "outputs": [],
   "source": [
    "df2 = perc_df.swaplevel()"
   ]
  },
  {
   "cell_type": "code",
   "execution_count": 103,
   "id": "ff99e307",
   "metadata": {},
   "outputs": [
    {
     "data": {
      "text/html": [
       "<div>\n",
       "<style scoped>\n",
       "    .dataframe tbody tr th:only-of-type {\n",
       "        vertical-align: middle;\n",
       "    }\n",
       "\n",
       "    .dataframe tbody tr th {\n",
       "        vertical-align: top;\n",
       "    }\n",
       "\n",
       "    .dataframe thead th {\n",
       "        text-align: right;\n",
       "    }\n",
       "</style>\n",
       "<table border=\"1\" class=\"dataframe\">\n",
       "  <thead>\n",
       "    <tr style=\"text-align: right;\">\n",
       "      <th></th>\n",
       "      <th></th>\n",
       "      <th>sex</th>\n",
       "    </tr>\n",
       "    <tr>\n",
       "      <th>sex</th>\n",
       "      <th>time</th>\n",
       "      <th></th>\n",
       "    </tr>\n",
       "  </thead>\n",
       "  <tbody>\n",
       "    <tr>\n",
       "      <th rowspan=\"2\" valign=\"top\">Male</th>\n",
       "      <th>Lunch</th>\n",
       "      <td>0.135246</td>\n",
       "    </tr>\n",
       "    <tr>\n",
       "      <th>Dinner</th>\n",
       "      <td>0.508197</td>\n",
       "    </tr>\n",
       "    <tr>\n",
       "      <th rowspan=\"2\" valign=\"top\">Female</th>\n",
       "      <th>Lunch</th>\n",
       "      <td>0.143443</td>\n",
       "    </tr>\n",
       "    <tr>\n",
       "      <th>Dinner</th>\n",
       "      <td>0.213115</td>\n",
       "    </tr>\n",
       "  </tbody>\n",
       "</table>\n",
       "</div>"
      ],
      "text/plain": [
       "                    sex\n",
       "sex    time            \n",
       "Male   Lunch   0.135246\n",
       "       Dinner  0.508197\n",
       "Female Lunch   0.143443\n",
       "       Dinner  0.213115"
      ]
     },
     "execution_count": 103,
     "metadata": {},
     "output_type": "execute_result"
    }
   ],
   "source": [
    "perc_df"
   ]
  },
  {
   "cell_type": "code",
   "execution_count": 105,
   "id": "74080b6a",
   "metadata": {},
   "outputs": [],
   "source": [
    "df2.rename(columns={'sex':'perc'}, inplace = True)"
   ]
  },
  {
   "cell_type": "code",
   "execution_count": 108,
   "id": "e055bf66",
   "metadata": {},
   "outputs": [],
   "source": [
    "df2 = df2.unstack()"
   ]
  },
  {
   "cell_type": "code",
   "execution_count": 293,
   "id": "f1bb1ffd",
   "metadata": {},
   "outputs": [
    {
     "name": "stderr",
     "output_type": "stream",
     "text": [
      "<ipython-input-293-6a938f9c7b07>:3: UserWarning: FixedFormatter should only be used together with FixedLocator\n",
      "  ax.set_yticklabels(y_values)\n"
     ]
    },
    {
     "data": {
      "text/plain": [
       "Text(0, 0.5, 'Proportion')"
      ]
     },
     "execution_count": 293,
     "metadata": {},
     "output_type": "execute_result"
    },
    {
     "data": {
      "image/png": "[encoded data removed]",
      "text/plain": [
       "<Figure size 432x288 with 1 Axes>"
      ]
     },
     "metadata": {
      "needs_background": "light"
     },
     "output_type": "display_data"
    }
   ],
   "source": [
    "fig, ax = plt.subplots()\n",
    "y_values = ['{:.1%}'.format(label) for label in ax.get_yticks()]\n",
    "ax.set_yticklabels(y_values)\n",
    "df2.plot(kind = 'bar', stacked = True, color = ['yellow', 'orange', 'red'], ax = ax)\n",
    "ax.legend(title = x)\n",
    "ax.set_ylabel('Proportion')"
   ]
  },
  {
   "cell_type": "code",
   "execution_count": 288,
   "id": "e6751fd1",
   "metadata": {},
   "outputs": [
    {
     "data": {
      "text/plain": [
       "['0.0%',\n",
       " '10.0%',\n",
       " '20.0%',\n",
       " '30.0%',\n",
       " '40.0%',\n",
       " '50.0%',\n",
       " '60.0%',\n",
       " '70.0%',\n",
       " '80.0%']"
      ]
     },
     "execution_count": 288,
     "metadata": {},
     "output_type": "execute_result"
    }
   ],
   "source": [
    "['{:.1%}'.format(a) for a in ax.get_yticks()]"
   ]
  },
  {
   "cell_type": "code",
   "execution_count": 129,
   "id": "2d7685a0",
   "metadata": {},
   "outputs": [],
   "source": []
  },
  {
   "cell_type": "code",
   "execution_count": 122,
   "id": "c2158c5a",
   "metadata": {},
   "outputs": [],
   "source": []
  },
  {
   "cell_type": "code",
   "execution_count": 116,
   "id": "9c6c672a",
   "metadata": {},
   "outputs": [
    {
     "data": {
      "text/plain": [
       "<function list.index(value, start=0, stop=9223372036854775807, /)>"
      ]
     },
     "execution_count": 116,
     "metadata": {},
     "output_type": "execute_result"
    }
   ],
   "source": [
    "ax.patches"
   ]
  },
  {
   "cell_type": "code",
   "execution_count": 112,
   "id": "a0149a8f",
   "metadata": {},
   "outputs": [
    {
     "data": {
      "text/plain": [
       "['Lunch', 'Dinner']"
      ]
     },
     "execution_count": 112,
     "metadata": {},
     "output_type": "execute_result"
    }
   ],
   "source": [
    "list(df2.index)"
   ]
  },
  {
   "cell_type": "code",
   "execution_count": 68,
   "id": "6d013ed7",
   "metadata": {},
   "outputs": [
    {
     "ename": "TypeError",
     "evalue": "Can only swap levels on a hierarchical axis.",
     "output_type": "error",
     "traceback": [
      "\u001b[1;31m---------------------------------------------------------------------------\u001b[0m",
      "\u001b[1;31mTypeError\u001b[0m                                 Traceback (most recent call last)",
      "\u001b[1;32m<ipython-input-68-0a17325ffbce>\u001b[0m in \u001b[0;36m<module>\u001b[1;34m\u001b[0m\n\u001b[0;32m      1\u001b[0m \u001b[0mfig\u001b[0m\u001b[1;33m,\u001b[0m \u001b[0max\u001b[0m \u001b[1;33m=\u001b[0m \u001b[0mplt\u001b[0m\u001b[1;33m.\u001b[0m\u001b[0msubplots\u001b[0m\u001b[1;33m(\u001b[0m\u001b[1;33m)\u001b[0m\u001b[1;33m\u001b[0m\u001b[1;33m\u001b[0m\u001b[0m\n\u001b[1;32m----> 2\u001b[1;33m \u001b[0mperc_df\u001b[0m \u001b[1;33m=\u001b[0m \u001b[0mperc_df\u001b[0m\u001b[1;33m.\u001b[0m\u001b[0mswaplevel\u001b[0m\u001b[1;33m(\u001b[0m\u001b[1;33m)\u001b[0m\u001b[1;33m.\u001b[0m\u001b[0munstack\u001b[0m\u001b[1;33m(\u001b[0m\u001b[1;33m)\u001b[0m\u001b[1;33m\u001b[0m\u001b[1;33m\u001b[0m\u001b[0m\n\u001b[0m\u001b[0;32m      3\u001b[0m \u001b[0mperc_df\u001b[0m\u001b[1;33m.\u001b[0m\u001b[0mplot\u001b[0m\u001b[1;33m(\u001b[0m\u001b[0mkind\u001b[0m\u001b[1;33m=\u001b[0m\u001b[1;34m'bar'\u001b[0m\u001b[1;33m,\u001b[0m \u001b[0mstacked\u001b[0m\u001b[1;33m=\u001b[0m\u001b[1;32mTrue\u001b[0m\u001b[1;33m,\u001b[0m \u001b[0max\u001b[0m\u001b[1;33m=\u001b[0m\u001b[0max\u001b[0m\u001b[1;33m)\u001b[0m\u001b[1;33m\u001b[0m\u001b[1;33m\u001b[0m\u001b[0m\n",
      "\u001b[1;32m~\\Anaconda3\\lib\\site-packages\\pandas\\core\\frame.py\u001b[0m in \u001b[0;36mswaplevel\u001b[1;34m(self, i, j, axis)\u001b[0m\n\u001b[0;32m   5920\u001b[0m \u001b[1;33m\u001b[0m\u001b[0m\n\u001b[0;32m   5921\u001b[0m         \u001b[1;32mif\u001b[0m \u001b[1;32mnot\u001b[0m \u001b[0misinstance\u001b[0m\u001b[1;33m(\u001b[0m\u001b[0mresult\u001b[0m\u001b[1;33m.\u001b[0m\u001b[0m_get_axis\u001b[0m\u001b[1;33m(\u001b[0m\u001b[0maxis\u001b[0m\u001b[1;33m)\u001b[0m\u001b[1;33m,\u001b[0m \u001b[0mMultiIndex\u001b[0m\u001b[1;33m)\u001b[0m\u001b[1;33m:\u001b[0m  \u001b[1;31m# pragma: no cover\u001b[0m\u001b[1;33m\u001b[0m\u001b[1;33m\u001b[0m\u001b[0m\n\u001b[1;32m-> 5922\u001b[1;33m             \u001b[1;32mraise\u001b[0m \u001b[0mTypeError\u001b[0m\u001b[1;33m(\u001b[0m\u001b[1;34m\"Can only swap levels on a hierarchical axis.\"\u001b[0m\u001b[1;33m)\u001b[0m\u001b[1;33m\u001b[0m\u001b[1;33m\u001b[0m\u001b[0m\n\u001b[0m\u001b[0;32m   5923\u001b[0m \u001b[1;33m\u001b[0m\u001b[0m\n\u001b[0;32m   5924\u001b[0m         \u001b[1;32mif\u001b[0m \u001b[0maxis\u001b[0m \u001b[1;33m==\u001b[0m \u001b[1;36m0\u001b[0m\u001b[1;33m:\u001b[0m\u001b[1;33m\u001b[0m\u001b[1;33m\u001b[0m\u001b[0m\n",
      "\u001b[1;31mTypeError\u001b[0m: Can only swap levels on a hierarchical axis."
     ]
    },
    {
     "data": {
      "image/png": "[encoded data removed]",
      "text/plain": [
       "<Figure size 432x288 with 1 Axes>"
      ]
     },
     "metadata": {
      "needs_background": "light"
     },
     "output_type": "display_data"
    }
   ],
   "source": [
    "fig, ax = plt.subplots()\n",
    "perc_df = perc_df.swaplevel().unstack()\n",
    "perc_df.plot(kind='bar', stacked=True, ax=ax)"
   ]
  },
  {
   "cell_type": "code",
   "execution_count": 69,
   "id": "d652cec8",
   "metadata": {},
   "outputs": [
    {
     "data": {
      "text/html": [
       "<div>\n",
       "<style scoped>\n",
       "    .dataframe tbody tr th:only-of-type {\n",
       "        vertical-align: middle;\n",
       "    }\n",
       "\n",
       "    .dataframe tbody tr th {\n",
       "        vertical-align: top;\n",
       "    }\n",
       "\n",
       "    .dataframe thead tr th {\n",
       "        text-align: left;\n",
       "    }\n",
       "\n",
       "    .dataframe thead tr:last-of-type th {\n",
       "        text-align: right;\n",
       "    }\n",
       "</style>\n",
       "<table border=\"1\" class=\"dataframe\">\n",
       "  <thead>\n",
       "    <tr>\n",
       "      <th></th>\n",
       "      <th colspan=\"2\" halign=\"left\">sex</th>\n",
       "    </tr>\n",
       "    <tr>\n",
       "      <th>sex</th>\n",
       "      <th>Male</th>\n",
       "      <th>Female</th>\n",
       "    </tr>\n",
       "    <tr>\n",
       "      <th>time</th>\n",
       "      <th></th>\n",
       "      <th></th>\n",
       "    </tr>\n",
       "  </thead>\n",
       "  <tbody>\n",
       "    <tr>\n",
       "      <th>Lunch</th>\n",
       "      <td>0.135246</td>\n",
       "      <td>0.143443</td>\n",
       "    </tr>\n",
       "    <tr>\n",
       "      <th>Dinner</th>\n",
       "      <td>0.508197</td>\n",
       "      <td>0.213115</td>\n",
       "    </tr>\n",
       "  </tbody>\n",
       "</table>\n",
       "</div>"
      ],
      "text/plain": [
       "             sex          \n",
       "sex         Male    Female\n",
       "time                      \n",
       "Lunch   0.135246  0.143443\n",
       "Dinner  0.508197  0.213115"
      ]
     },
     "execution_count": 69,
     "metadata": {},
     "output_type": "execute_result"
    }
   ],
   "source": [
    "perc_df"
   ]
  },
  {
   "cell_type": "code",
   "execution_count": null,
   "id": "0564b05c",
   "metadata": {},
   "outputs": [],
   "source": []
  }
 ],
 "metadata": {
  "kernelspec": {
   "display_name": "Python 3",
   "language": "python",
   "name": "python3"
  },
  "language_info": {
   "codemirror_mode": {
    "name": "ipython",
    "version": 3
   },
   "file_extension": ".py",
   "mimetype": "text/x-python",
   "name": "python",
   "nbconvert_exporter": "python",
   "pygments_lexer": "ipython3",
   "version": "3.8.8"
  }
 },
 "nbformat": 4,
 "nbformat_minor": 5
}
