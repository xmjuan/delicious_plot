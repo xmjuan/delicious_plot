{
 "cells": [
  {
   "cell_type": "code",
   "execution_count": 2,
   "id": "5e5f340a",
   "metadata": {},
   "outputs": [],
   "source": [
    "import matplotlib.pyplot as plt\n",
    "import pandas as pd\n",
    "import numpy as np\n",
    "import seaborn\n",
    "%matplotlib inline"
   ]
  },
  {
   "cell_type": "code",
   "execution_count": null,
   "id": "204f996e",
   "metadata": {},
   "outputs": [],
   "source": [
    "class delicious_plot():\n",
    "    \"\"\"\n",
    "    delicious_plot class for preparing and visualizing a plot with dual y axises\n",
    "    \"\"\"\n",
    "    def __init__(self, **args):\n",
    "        self.cat_x = args.get('cat_x')\n",
    "        self.num_y = args.get('num_y')\n",
    "        self.num_z = args.get('num_z', None)\n",
    "        \n",
    "    def data_preparation(self, df):\n",
    "        if self.\n",
    "        data = df.groupby(cat_x)[[num_y, num_z]].sum()\n",
    "                "
   ]
  }
 ],
 "metadata": {
  "kernelspec": {
   "display_name": "Python 3",
   "language": "python",
   "name": "python3"
  },
  "language_info": {
   "codemirror_mode": {
    "name": "ipython",
    "version": 3
   },
   "file_extension": ".py",
   "mimetype": "text/x-python",
   "name": "python",
   "nbconvert_exporter": "python",
   "pygments_lexer": "ipython3",
   "version": "3.7.10"
  }
 },
 "nbformat": 4,
 "nbformat_minor": 5
}
